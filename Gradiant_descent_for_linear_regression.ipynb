{
 "cells": [
  {
   "cell_type": "code",
   "execution_count": 10,
   "metadata": {},
   "outputs": [],
   "source": [
    "import pandas as pd, ipywidgets as widgets\n",
    "from IPython import display"
   ]
  },
  {
   "cell_type": "code",
   "execution_count": 11,
   "metadata": {},
   "outputs": [],
   "source": [
    "#This is a given training data. of weights vs heights\n",
    "trainingData = [[0.5,1.4],[2.3,1.9],[2.9,3.2]]"
   ]
  },
  {
   "cell_type": "code",
   "execution_count": 12,
   "metadata": {},
   "outputs": [],
   "source": [
    "#name the data elements in the training set\n",
    "dframeTD = pd.DataFrame(trainingData,columns=['indepedentVariable','dependentVariable'])"
   ]
  },
  {
   "cell_type": "code",
   "execution_count": 13,
   "metadata": {},
   "outputs": [],
   "source": [
    "#Let following be seed values of intercept, slope and learning rate(alpha).\n",
    "intercept = 0\n",
    "slope = 1\n",
    "alpha = 0.1\n",
    "\n",
    "#Note: How to Choosing these values is a part of another discussion, and may not be covered here.\n",
    "#But let's think of it as a common sense decision either by a human or program, by looking at the data"
   ]
  },
  {
   "cell_type": "code",
   "execution_count": 14,
   "metadata": {},
   "outputs": [
    {
     "name": "stdout",
     "output_type": "stream",
     "text": [
      "0.3502515999999999\n",
      "0.9086096400000001\n"
     ]
    }
   ],
   "source": [
    "#get the size of dataframe dframeTD\n",
    "numberOfTrainingExamples = dframeTD.shape[0]\n",
    "\n",
    "#initialize the derivative values\n",
    "derivativeOfSsqrWRTintercept = 0\n",
    "derivativeOfSsqrWRTSlope = 0\n",
    "\n",
    "#number of times gradiant descent should be repeated depends on training data set size.\n",
    "#Since here training set is not big we are running as many iterations as number of training examples\n",
    "#In case of huge data, practically iterations are limited to certain number\n",
    "for rownumber in range(numberOfTrainingExamples):\n",
    "#using pandas lets extract weight(independent variable) and depedent variable(Height)\n",
    " trainingValue = dframeTD.iloc[rownumber,:]\n",
    " \n",
    " #get independent variable value.\n",
    " indepedentVariable = trainingValue[0]\n",
    " \n",
    " #get depedent variable\n",
    " observedValue = trainingValue[1]\n",
    "    \n",
    " #predictedHeight = intercept + (slope*weight)\n",
    " #sumOfSquaredResiduals = (observedValue - (intercept + slope*weight ))**2\n",
    " #A derivative of above sum of squared residuals function needs to be taken to be able to \n",
    " #execute the process of gradiant descent untill it converges.\n",
    " \n",
    " #derivative of sum of squared residuals with respect to intercept\n",
    " derivativeOfSsqrWRTintercept = derivativeOfSsqrWRTintercept + (-2*(observedValue-(intercept + slope*indepedentVariable)))\n",
    " \n",
    " #derivative of sum of squared residuals with respect to slope\n",
    " derivativeOfSsqrWRTSlope = derivativeOfSsqrWRTSlope + (-2*indepedentVariable*(observedValue-(intercept + slope*indepedentVariable)))\n",
    " \n",
    " #Calculate a step size\n",
    " stepSizeForDerWRTIntercept = derivativeOfSsqrWRTintercept*alpha\n",
    " stepSizeForDerWRTSlope = derivativeOfSsqrWRTSlope*alpha\n",
    "\n",
    " #calculate new value for intercept and slope\n",
    " intercept = intercept-stepSizeForDerWRTIntercept\n",
    " slope = slope-stepSizeForDerWRTSlope\n",
    "#After running gradient descent following are values of intercept and slope which give us better fitting line through\n",
    "#our data\n",
    "print(intercept)\n",
    "print(slope)"
   ]
  },
  {
   "cell_type": "code",
   "execution_count": 15,
   "metadata": {},
   "outputs": [],
   "source": [
    "#the hypothesis function that we get after running gradient descent for linear regression is\n",
    "depedentVariable = 0.5595708866575199 + 0.849259498842808*indepedentVariable\n",
    "\n",
    "#This is the hypothesis function that is supposed to be end result of training the model. This hypothesis function \n",
    "#can be used to predict values for indepedent variable, which were originally not part of training set. "
   ]
  },
  {
   "cell_type": "code",
   "execution_count": 20,
   "metadata": {},
   "outputs": [],
   "source": [
    "#For instance take a look at values returend by hypothesis function if we use same set of indepedent variables as\n",
    "#given in training set plus more\n",
    "predictionForfirstValueInTrainingSet = 0.5595708866575199 + 0.849259498842808*0.5\n",
    "predictionForSecondValueInTrainingSet = 0.5595708866575199 + 0.849259498842808*2.3\n",
    "predictionForThirdValueInTrainingSet = 0.5595708866575199 + 0.849259498842808*2.9\n",
    "predictionForFourthValueInTrainingSet = 0.5595708866575199 + 0.849259498842808*1.0\n",
    "predictionForFifthValueInTrainingSet = 0.5595708866575199 + 0.849259498842808*1.5"
   ]
  },
  {
   "cell_type": "code",
   "execution_count": 21,
   "metadata": {},
   "outputs": [
    {
     "data": {
      "application/vnd.jupyter.widget-view+json": {
       "model_id": "bedc579c86e440988774b38eb9593e10",
       "version_major": 2,
       "version_minor": 0
      },
      "text/plain": [
       "HBox(children=(Output(),))"
      ]
     },
     "metadata": {},
     "output_type": "display_data"
    }
   ],
   "source": [
    "#Following is created quickly to give you some visual representation of results. \n",
    "#Feel free to beautify it as you may wish to.\n",
    "data = [[0.5,1.4,predictionForfirstValueInTrainingSet],[2.3,1.9,predictionForSecondValueInTrainingSet],[2.9,3.2,predictionForThirdValueInTrainingSet],\n",
    "       [1.0,'NA',predictionForFourthValueInTrainingSet],[1.5,'NA',predictionForFifthValueInTrainingSet]]\n",
    "dataFrameWithobservedVisvisPredictedValues = pd.DataFrame(data, columns=['IndepedentVariable','ObservedValue','PredictedValue'])\n",
    "\n",
    "# create output widgets\n",
    "widget1 = widgets.Output()\n",
    "\n",
    "# render in output widgets\n",
    "with widget1:\n",
    "    display.display(dataFrameWithobservedVisvisPredictedValues)\n",
    "\n",
    "# create HBox\n",
    "hbox = widgets.HBox([widget1])\n",
    "\n",
    "#render hbox\n",
    "hbox\n"
   ]
  }
 ],
 "metadata": {
  "kernelspec": {
   "display_name": "Python 3",
   "language": "python",
   "name": "python3"
  },
  "language_info": {
   "codemirror_mode": {
    "name": "ipython",
    "version": 3
   },
   "file_extension": ".py",
   "mimetype": "text/x-python",
   "name": "python",
   "nbconvert_exporter": "python",
   "pygments_lexer": "ipython3",
   "version": "3.6.7"
  }
 },
 "nbformat": 4,
 "nbformat_minor": 2
}
